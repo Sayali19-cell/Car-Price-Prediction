{
  "nbformat": 4,
  "nbformat_minor": 0,
  "metadata": {
    "colab": {
      "provenance": [],
      "authorship_tag": "ABX9TyOH1y8ZAL2UxiObwEopQKAI",
      "include_colab_link": true
    },
    "kernelspec": {
      "name": "python3",
      "display_name": "Python 3"
    },
    "language_info": {
      "name": "python"
    }
  },
  "cells": [
    {
      "cell_type": "markdown",
      "metadata": {
        "id": "view-in-github",
        "colab_type": "text"
      },
      "source": [
        "<a href=\"https://colab.research.google.com/github/Sayali19-cell/Car-Price-Prediction/blob/main/Car_Price_Prediction.ipynb\" target=\"_parent\"><img src=\"https://colab.research.google.com/assets/colab-badge.svg\" alt=\"Open In Colab\"/></a>"
      ]
    },
    {
      "cell_type": "code",
      "source": [
        "import pandas as pd\n",
        "from sklearn.model_selection import train_test_split\n",
        "from lightgbm import LGBMRegressor\n",
        "train = pd.read_csv('train.csv')\n",
        "test = pd.read_csv('test.csv')"
      ],
      "metadata": {
        "id": "G5qUdiwImNb5"
      },
      "execution_count": null,
      "outputs": []
    },
    {
      "cell_type": "code",
      "source": [
        "# Load data\n",
        "train = pd.read_csv('train.csv')\n",
        "test = pd.read_csv('test.csv')\n",
        "\n",
        "# Identify categorical columns\n",
        "categorical_cols = ['brand', 'model', 'fuel_type', 'engine', 'transmission', 'ext_col', 'int_col', 'accident', 'clean_title']\n",
        "\n",
        "# Convert categorical columns to string type\n",
        "train[categorical_cols] = train[categorical_cols].astype(str)\n",
        "test[categorical_cols] = test[categorical_cols].astype(str)"
      ],
      "metadata": {
        "id": "JJ8oMtfa-BDK"
      },
      "execution_count": null,
      "outputs": []
    },
    {
      "cell_type": "code",
      "source": [
        "# Use one-hot encoding to convert categorical columns to numerical format\n",
        "train = pd.get_dummies(train, columns=categorical_cols, drop_first=True)\n",
        "test = pd.get_dummies(test, columns=categorical_cols, drop_first=True)\n",
        "\n",
        "# Align the columns in train and test to ensure they have the same structure\n",
        "train, test = train.align(test, join='left', axis=1)\n",
        "\n",
        "# Fill any missing columns in the test set with zeros (since some categories may not exist in the test set)\n",
        "test.fillna(0, inplace=True)\n",
        "\n",
        "# Features and target\n",
        "X = train.drop(columns=['price', 'id'])  # Drop the target and id columns\n",
        "y = train['price']\n",
        "\n",
        "# Split data into train and validation sets\n",
        "X_train, X_val, y_train, y_val = train_test_split(X, y, test_size=0.2, random_state=42)\n"
      ],
      "metadata": {
        "id": "aMI8BAQH-dCI"
      },
      "execution_count": null,
      "outputs": []
    },
    {
      "cell_type": "code",
      "source": [
        "# Train a LightGBM model\n",
        "model = LGBMRegressor()\n",
        "model.fit(X_train, y_train)\n",
        "\n",
        "# Make predictions on the validation set\n",
        "y_pred = model.predict(X_val)\n",
        "\n",
        "# Calculate the mean absolute error (MAE)\n",
        "mae = mean_absolute_error(y_val, y_pred)\n",
        "print(\"Mean Absolute Error:\", mae)"
      ],
      "metadata": {
        "colab": {
          "base_uri": "https://localhost:8080/",
          "height": 315
        },
        "id": "fyr8ktqn-iys",
        "outputId": "e7a2def7-e023-46cc-8901-aee5dfb41202"
      },
      "execution_count": null,
      "outputs": [
        {
          "output_type": "stream",
          "name": "stdout",
          "text": [
            "[LightGBM] [Warning] Found whitespace in feature_names, replace with underlines\n",
            "[LightGBM] [Info] Auto-choosing row-wise multi-threading, the overhead of testing was 2.234408 seconds.\n",
            "You can set `force_row_wise=true` to remove the overhead.\n",
            "And if memory is not enough, you can set `force_col_wise=true`.\n",
            "[LightGBM] [Info] Total Bins 5356\n",
            "[LightGBM] [Info] Number of data points in the train set: 150826, number of used features: 2535\n",
            "[LightGBM] [Info] Start training from score 43890.785316\n"
          ]
        },
        {
          "output_type": "error",
          "ename": "NameError",
          "evalue": "name 'mean_absolute_error' is not defined",
          "traceback": [
            "\u001b[0;31m---------------------------------------------------------------------------\u001b[0m",
            "\u001b[0;31mNameError\u001b[0m                                 Traceback (most recent call last)",
            "\u001b[0;32m<ipython-input-8-bab17d05e611>\u001b[0m in \u001b[0;36m<cell line: 9>\u001b[0;34m()\u001b[0m\n\u001b[1;32m      7\u001b[0m \u001b[0;34m\u001b[0m\u001b[0m\n\u001b[1;32m      8\u001b[0m \u001b[0;31m# Calculate the mean absolute error (MAE)\u001b[0m\u001b[0;34m\u001b[0m\u001b[0;34m\u001b[0m\u001b[0m\n\u001b[0;32m----> 9\u001b[0;31m \u001b[0mmae\u001b[0m \u001b[0;34m=\u001b[0m \u001b[0mmean_absolute_error\u001b[0m\u001b[0;34m(\u001b[0m\u001b[0my_val\u001b[0m\u001b[0;34m,\u001b[0m \u001b[0my_pred\u001b[0m\u001b[0;34m)\u001b[0m\u001b[0;34m\u001b[0m\u001b[0;34m\u001b[0m\u001b[0m\n\u001b[0m\u001b[1;32m     10\u001b[0m \u001b[0mprint\u001b[0m\u001b[0;34m(\u001b[0m\u001b[0;34m\"Mean Absolute Error:\"\u001b[0m\u001b[0;34m,\u001b[0m \u001b[0mmae\u001b[0m\u001b[0;34m)\u001b[0m\u001b[0;34m\u001b[0m\u001b[0;34m\u001b[0m\u001b[0m\n",
            "\u001b[0;31mNameError\u001b[0m: name 'mean_absolute_error' is not defined"
          ]
        }
      ]
    },
    {
      "cell_type": "code",
      "source": [
        "import pandas as pd\n",
        "from sklearn.model_selection import train_test_split\n",
        "from lightgbm import LGBMRegressor\n",
        "from sklearn.metrics import mean_absolute_error # import the function\n",
        "\n",
        "train = pd.read_csv('train.csv')\n",
        "test = pd.read_csv('test.csv')\n",
        "\n",
        "# Load data\n",
        "train = pd.read_csv('train.csv')\n",
        "test = pd.read_csv('test.csv')\n",
        "\n",
        "# Identify categorical columns\n",
        "categorical_cols = ['brand', 'model', 'fuel_type', 'engine', 'transmission', 'ext_col', 'int_col', 'accident', 'clean_title']\n",
        "\n",
        "# Convert categorical columns to string type\n",
        "train[categorical_cols] = train[categorical_cols].astype(str)\n",
        "test[categorical_cols] = test[categorical_cols].astype(str)\n",
        "\n",
        "# Use one-hot encoding to convert categorical columns to numerical format\n",
        "train = pd.get_dummies(train, columns=categorical_cols, drop_first=True)\n",
        "test = pd.get_dummies(test, columns=categorical_cols, drop_first=True)\n",
        "\n",
        "# Align the columns in train and test to ensure they have the same structure\n",
        "train, test = train.align(test, join='left', axis=1)\n",
        "\n",
        "# Fill any missing columns in the test set with zeros (since some categories may not exist in the test set)\n",
        "test.fillna(0, inplace=True)\n",
        "\n",
        "# Features and target\n",
        "X = train.drop(columns=['price', 'id'])  # Drop the target and id columns\n",
        "y = train['price']\n",
        "\n",
        "# Split data into train and validation sets\n",
        "X_train, X_val, y_train, y_val = train_test_split(X, y, test_size=0.2, random_state=42)\n",
        "\n",
        "# Train a LightGBM model\n",
        "model = LGBMRegressor()\n",
        "model.fit(X_train, y_train)\n",
        "\n",
        "# Make predictions on the validation set\n",
        "y_pred = model.predict(X_val)\n",
        "\n",
        "# Calculate the mean absolute error (MAE)\n",
        "mae = mean_absolute_error(y_val, y_pred)\n",
        "print(\"Mean Absolute Error:\", mae)"
      ],
      "metadata": {
        "colab": {
          "base_uri": "https://localhost:8080/"
        },
        "id": "DMc5rLib_Ef2",
        "outputId": "3891e7b5-4fe4-4f77-88b9-a73ec0db8719"
      },
      "execution_count": null,
      "outputs": [
        {
          "output_type": "stream",
          "name": "stdout",
          "text": [
            "[LightGBM] [Warning] Found whitespace in feature_names, replace with underlines\n",
            "[LightGBM] [Info] Auto-choosing row-wise multi-threading, the overhead of testing was 1.919000 seconds.\n",
            "You can set `force_row_wise=true` to remove the overhead.\n",
            "And if memory is not enough, you can set `force_col_wise=true`.\n",
            "[LightGBM] [Info] Total Bins 5356\n",
            "[LightGBM] [Info] Number of data points in the train set: 150826, number of used features: 2535\n",
            "[LightGBM] [Info] Start training from score 43890.785316\n",
            "Mean Absolute Error: 20071.332902392976\n"
          ]
        }
      ]
    },
    {
      "cell_type": "code",
      "source": [
        "# Calculate the Root Mean Squared Error (RMSE)\n",
        "rmse = mean_squared_error(y_val, y_pred, squared=False)\n",
        "print(\"Root Mean Squared Error (RMSE):\", rmse)\n",
        "\n",
        "# Make predictions on the test set and prepare submission\n",
        "test_data = test.drop(columns=['id'])\n",
        "\n",
        "# Ensure that the columns in test_data match the columns used during training\n",
        "test_data = test_data.reindex(columns=X_train.columns, fill_value=0)\n",
        "\n",
        "test['price'] = model.predict(test_data)\n",
        "\n",
        "# Create submission file\n",
        "submission = test[['id', 'price']]\n",
        "submission.to_csv('submission.csv', index=False)\n",
        "\n",
        "print(\"Submission file created successfully!\")"
      ],
      "metadata": {
        "id": "mYMmzlKe__kd",
        "outputId": "cb8814b4-b042-4649-960a-cd42152319c6",
        "colab": {
          "base_uri": "https://localhost:8080/"
        }
      },
      "execution_count": null,
      "outputs": [
        {
          "output_type": "stream",
          "name": "stdout",
          "text": [
            "Root Mean Squared Error (RMSE): 68329.32976919763\n",
            "Submission file created successfully!\n"
          ]
        }
      ]
    }
  ]
}